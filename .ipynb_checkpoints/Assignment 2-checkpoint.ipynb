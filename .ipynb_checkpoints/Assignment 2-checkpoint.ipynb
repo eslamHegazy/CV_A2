{
 "cells": [
  {
   "cell_type": "code",
   "execution_count": 2,
   "id": "efd7b6c5",
   "metadata": {},
   "outputs": [],
   "source": [
    "from PIL import Image\n",
    "import numpy as np\n",
    "import matplotlib.pyplot as plt"
   ]
  },
  {
   "cell_type": "code",
   "execution_count": 3,
   "id": "732f5751",
   "metadata": {},
   "outputs": [],
   "source": [
    "def CalculateIntegral(image):\n",
    "    res = [[0 for _ in range(len(image[0]))] for _ in range(len(image))]\n",
    "    for i in range(len(image)):\n",
    "        for j in range(len(image[0])):\n",
    "            res[i][j] = image[i][j]\n",
    "            if (i > 0 and j > 0):\n",
    "                res[i][j] -= res[i - 1][j - 1]\n",
    "            if (i > 0):\n",
    "                res[i][j] += res[i - 1][j]\n",
    "            if (j > 0):\n",
    "                res[i][j] += res[i][j - 1]\n",
    "    return res\n",
    "            "
   ]
  },
  {
   "cell_type": "code",
   "execution_count": 4,
   "id": "48a6cb07",
   "metadata": {},
   "outputs": [],
   "source": [
    "def CalculateLocalSum(image, p0, p1):\n",
    "    x0, y0 = p0\n",
    "    x1, y1 = p1\n",
    "    lower_right = image[x1][y1]\n",
    "    upper_right = image[x0 - 1][y1] if x0 > 0 else 0\n",
    "    lower_left = image[x1][y0 - 1] if y0 > 0 else 0\n",
    "    upper_left = image[x0 - 1][y0 - 1] if (x0 > 0 and y0 > 0) else 0\n",
    "    return lower_right - upper_right - lower_left + upper_left"
   ]
  },
  {
   "cell_type": "code",
   "execution_count": 19,
   "id": "585f8389",
   "metadata": {},
   "outputs": [],
   "source": [
    "def ExtractDetectedEye(image, center, w):\n",
    "    m = 0.15 * w\n",
    "    cx, cy = center\n",
    "    x0 = int(cx - int(0.5 * m))\n",
    "    y0 = int(cy - 0.5 * w)\n",
    "    x1 = int(cx + int(2 * m))\n",
    "    y1 = int(cy + 0.5 * w)\n",
    "    res = [[image[x0 + i][y0 + j] for j in range(y1 - y0 + 1)] for i in range(x1 - x0 + 1)]\n",
    "#     res = [[image[i][j] if (x0<= i<= x1 and y0<= j<= y1) else 0 for j in range(len(image[i]))] for i in range(len(image))]\n",
    "    return res\n",
    "    "
   ]
  },
  {
   "cell_type": "code",
   "execution_count": 20,
   "id": "9b16ba8d",
   "metadata": {},
   "outputs": [],
   "source": [
    "def compute_points(center, w):\n",
    "    m = 0.15 * w\n",
    "    cx, cy = center\n",
    "    p1 = (cx - 0.5 * m, cy - 0.5 * w)\n",
    "    p2 = (cx, cy - 0.05 * w)\n",
    "    p3 = (cx, cy -0.5 * w)\n",
    "    p4 = (cx + 0.5 * m, cy -0.05 * w)\n",
    "    p5 = (cx -0.5 * m, cy + 0.05 * w)\n",
    "    p6 = (cx, cy + 0.5 * w)\n",
    "    p7 = (cx, cy + 0.05 * w)\n",
    "    p8 = (cx + 0.5 * m, cy + 0.5 * w)\n",
    "    p9 = (cx + 0.833 * m, cy - 0.325 * w)\n",
    "    p10 = (cx + 2 * m, cy - 0.225 * w)\n",
    "    p11 = (cx + 0.833 * m, cy -0.1 * w)\n",
    "    p12 = (cx + 2 * m, cy + 0.1 * w)\n",
    "    p13 = (cx + 0.833 * m, cy + 0.225 * w)\n",
    "    p14 = (cx + 2 * m, cy + 0.325 * w)\n",
    "    res = [p1, p2, p3, p4, p5, p6, p7, p8, p9, p10, p11, p12, p13, p14]\n",
    "    return [(round(x), round(y)) for (x,y) in res]"
   ]
  },
  {
   "cell_type": "code",
   "execution_count": 21,
   "id": "8c2f44a6",
   "metadata": {},
   "outputs": [],
   "source": [
    "def convolve(image, points):\n",
    "    ls1 = CalculateLocalSum(image, points[0], points[1])\n",
    "    ls2 = CalculateLocalSum(image, points[2], points[3])\n",
    "    ls3 = CalculateLocalSum(image, points[4], points[5])\n",
    "    ls4 = CalculateLocalSum(image, points[6], points[7])\n",
    "    ls5 = CalculateLocalSum(image, points[8], points[9])\n",
    "    ls6 = CalculateLocalSum(image, points[10], points[11])\n",
    "    ls7 = CalculateLocalSum(image, points[12], points[13])\n",
    "    return ls1 - ls2 + ls3 - ls4 - ls5 + ls6 - ls7"
   ]
  },
  {
   "cell_type": "code",
   "execution_count": 22,
   "id": "23bdc4a4",
   "metadata": {},
   "outputs": [],
   "source": [
    "def DetectEye(image, w):\n",
    "    res = -1e20\n",
    "    pos = (0, 0)\n",
    "    m = 0.15 * w\n",
    "    for i in range(len(image)):\n",
    "        for j in range(len(image[0])):\n",
    "            if (j <= 0.5 * w or len(image[0]) - j <= 0.5 * w):\n",
    "                continue\n",
    "            if (i <= 0.5 * m or len(image) - i <= 2 * m):\n",
    "                continue\n",
    "            points = compute_points((i, j), w)\n",
    "            val = convolve(image, points)\n",
    "            if (val > res):\n",
    "                res = val\n",
    "                pos = (i, j)\n",
    "    return pos"
   ]
  },
  {
   "cell_type": "code",
   "execution_count": 23,
   "id": "e4ec8f07",
   "metadata": {},
   "outputs": [
    {
     "data": {
      "text/plain": [
       "<matplotlib.image.AxesImage at 0x15356291240>"
      ]
     },
     "execution_count": 23,
     "metadata": {},
     "output_type": "execute_result"
    },
    {
     "data": {
      "image/png": "[encoded data removed]",
      "text/plain": [
       "<Figure size 432x288 with 1 Axes>"
      ]
     },
     "metadata": {
      "needs_background": "light"
     },
     "output_type": "display_data"
    }
   ],
   "source": [
    "image = Image.open(\"f2.png\").convert('L')\n",
    "image_list = np.array(image).tolist()\n",
    "integral = CalculateIntegral(image_list)\n",
    "out = ExtractDetectedEye(image_list, DetectEye(integral, 330), 330)\n",
    "plt.imshow(Image.fromarray(np.uint8(out)), cmap=plt.get_cmap('gray'))"
   ]
  },
  {
   "cell_type": "code",
   "execution_count": 24,
   "id": "4575d75e",
   "metadata": {},
   "outputs": [
    {
     "data": {
      "text/plain": [
       "<matplotlib.image.AxesImage at 0x15353b36d30>"
      ]
     },
     "execution_count": 24,
     "metadata": {},
     "output_type": "execute_result"
    },
    {
     "data": {
      "image/png": "[encoded data removed]",
      "text/plain": [
       "<Figure size 432x288 with 1 Axes>"
      ]
     },
     "metadata": {
      "needs_background": "light"
     },
     "output_type": "display_data"
    }
   ],
   "source": [
    "image = Image.open(\"f6.jpg\").convert('L')\n",
    "image_list = np.array(image).tolist()\n",
    "integral = CalculateIntegral(image_list)\n",
    "out = ExtractDetectedEye(image_list, DetectEye(integral, 150), 150)\n",
    "plt.imshow(Image.fromarray(np.uint8(out)), cmap=plt.get_cmap('gray'))"
   ]
  },
  {
   "cell_type": "code",
   "execution_count": 25,
   "id": "cc46c7d5",
   "metadata": {},
   "outputs": [
    {
     "data": {
      "text/plain": [
       "<matplotlib.image.AxesImage at 0x15353392860>"
      ]
     },
     "execution_count": 25,
     "metadata": {},
     "output_type": "execute_result"
    },
    {
     "data": {
      "image/png": "[encoded data removed]",
      "text/plain": [
       "<Figure size 432x288 with 1 Axes>"
      ]
     },
     "metadata": {
      "needs_background": "light"
     },
     "output_type": "display_data"
    }
   ],
   "source": [
    "image = Image.open(\"f3.jpg\").convert('L')\n",
    "image_list = np.array(image).tolist()\n",
    "integral = CalculateIntegral(image_list)\n",
    "out = ExtractDetectedEye(image_list, DetectEye(integral, 250), 250)\n",
    "plt.imshow(Image.fromarray(np.uint8(out)), cmap=plt.get_cmap('gray'))"
   ]
  },
  {
   "cell_type": "code",
   "execution_count": null,
   "id": "f7eda73b",
   "metadata": {},
   "outputs": [],
   "source": []
  }
 ],
 "metadata": {
  "kernelspec": {
   "display_name": "Python 3 (ipykernel)",
   "language": "python",
   "name": "python3"
  },
  "language_info": {
   "codemirror_mode": {
    "name": "ipython",
    "version": 3
   },
   "file_extension": ".py",
   "mimetype": "text/x-python",
   "name": "python",
   "nbconvert_exporter": "python",
   "pygments_lexer": "ipython3",
   "version": "3.7.0"
  }
 },
 "nbformat": 4,
 "nbformat_minor": 5
}
